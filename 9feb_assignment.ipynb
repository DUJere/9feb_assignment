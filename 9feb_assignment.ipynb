{
 "cells": [
  {
   "cell_type": "markdown",
   "id": "9483391f-c51f-4ba2-a2c1-e8f0b71aff5e",
   "metadata": {},
   "source": [
    "Q1. Create a vehicle class with an init method having instance variables as name_of_vehicle, max_speed\n",
    "and average_of_vehicle. "
   ]
  },
  {
   "cell_type": "code",
   "execution_count": 11,
   "id": "1862fc14-3a3c-441b-8116-b5b0e661f034",
   "metadata": {},
   "outputs": [],
   "source": [
    "class vehicle :\n",
    "    \n",
    "    def __init__(self,name_of_vehicle, max_speed, average_of_vehicle,seating_capacity) :\n",
    "        \n",
    "        self.name_of_vehicle = name_of_vehicle\n",
    "        self.max_speed = max_speed\n",
    "        self.average_of_vehicle = average_of_vehicle\n",
    "        self.seating_capacity = seating_capacity\n",
    "        \n",
    "    "
   ]
  },
  {
   "cell_type": "code",
   "execution_count": 12,
   "id": "e535aa4e-2bed-4c7f-bb1a-d329bcc89e67",
   "metadata": {},
   "outputs": [],
   "source": [
    "vehicle_info = vehicle(\"TVS iqube\",120,80,2)"
   ]
  },
  {
   "cell_type": "code",
   "execution_count": 13,
   "id": "ea116fac-5fa3-4478-9ebb-9b39bced1776",
   "metadata": {},
   "outputs": [
    {
     "data": {
      "text/plain": [
       "80"
      ]
     },
     "execution_count": 13,
     "metadata": {},
     "output_type": "execute_result"
    }
   ],
   "source": [
    "vehicle_info.average_of_vehicle"
   ]
  },
  {
   "cell_type": "code",
   "execution_count": 14,
   "id": "35fd3459-d48e-424d-bdd2-ff2764ac7610",
   "metadata": {},
   "outputs": [
    {
     "data": {
      "text/plain": [
       "120"
      ]
     },
     "execution_count": 14,
     "metadata": {},
     "output_type": "execute_result"
    }
   ],
   "source": [
    "vehicle_info.max_speed"
   ]
  },
  {
   "cell_type": "code",
   "execution_count": 15,
   "id": "ee42bdd2-313a-444e-8c5a-52e91a020180",
   "metadata": {},
   "outputs": [
    {
     "data": {
      "text/plain": [
       "'TVS iqube'"
      ]
     },
     "execution_count": 15,
     "metadata": {},
     "output_type": "execute_result"
    }
   ],
   "source": [
    "vehicle_info.name_of_vehicle"
   ]
  },
  {
   "cell_type": "markdown",
   "id": "ab94c3c3-c86d-404d-a40b-f9e76048ca04",
   "metadata": {},
   "source": [
    "Q2.  Create a child class car from the vehicle class created in Que 1, which will inherit the vehicle class.\n",
    "Create a method named seating_capacity which takes capacity as an argument and returns the name of\n",
    "the vehicle and its seating capacity."
   ]
  },
  {
   "cell_type": "code",
   "execution_count": 20,
   "id": "4b0d6d74-2051-4b03-aefa-699a42556fd8",
   "metadata": {},
   "outputs": [],
   "source": [
    "class vehicle_child(vehicle) :\n",
    "    \n",
    "    def name_cap(self) :\n",
    "        return self.name_of_vehicle , self.seating_capacity\n",
    "        \n",
    "    "
   ]
  },
  {
   "cell_type": "code",
   "execution_count": 21,
   "id": "8d8c17e6-7550-40c8-acc3-d588ae3037ca",
   "metadata": {},
   "outputs": [],
   "source": [
    "vc = vehicle_child(\"TVS iqube\",120,80,2)"
   ]
  },
  {
   "cell_type": "code",
   "execution_count": 22,
   "id": "e98cc639-9996-4bbb-be24-8f686f7bbf17",
   "metadata": {},
   "outputs": [
    {
     "data": {
      "text/plain": [
       "('TVS iqube', 2)"
      ]
     },
     "execution_count": 22,
     "metadata": {},
     "output_type": "execute_result"
    }
   ],
   "source": [
    "vc.name_cap()"
   ]
  },
  {
   "cell_type": "markdown",
   "id": "cb91ef16-093f-4350-8b3c-b62fb1028d35",
   "metadata": {},
   "source": [
    "Q3. What is multiple inheritance? Write a python code to demonstrate multiple inheritance."
   ]
  },
  {
   "cell_type": "markdown",
   "id": "fea49ff5-e752-4c75-bd1a-586f74ce258b",
   "metadata": {},
   "source": [
    "Answer : If a child class inherits from more than one class, i.e. this child class is derived from multiple classes, we call it multiple inheritance in Python."
   ]
  },
  {
   "cell_type": "code",
   "execution_count": 23,
   "id": "b963298b-b931-4087-8053-2bd9cab4fddb",
   "metadata": {},
   "outputs": [],
   "source": [
    "## example\n",
    "\n",
    "class mom :\n",
    "    \n",
    "    def test_mom(self) :\n",
    "        return \"This is mom\""
   ]
  },
  {
   "cell_type": "code",
   "execution_count": 24,
   "id": "d6784240-7d18-4b86-8120-2104caa7ea4e",
   "metadata": {},
   "outputs": [],
   "source": [
    "class dad : \n",
    "    \n",
    "    def test_dad(self) :\n",
    "        return \"This is dad\""
   ]
  },
  {
   "cell_type": "code",
   "execution_count": 25,
   "id": "3d97b5ae-1e71-44ae-afec-eba9bbb0240b",
   "metadata": {},
   "outputs": [],
   "source": [
    "class child(mom,dad) :\n",
    "    pass"
   ]
  },
  {
   "cell_type": "code",
   "execution_count": 26,
   "id": "7f1785c4-6629-4278-84ee-8eeaafd5ebe9",
   "metadata": {},
   "outputs": [],
   "source": [
    "child_obj = child()"
   ]
  },
  {
   "cell_type": "code",
   "execution_count": 27,
   "id": "c3f2f976-07dd-4836-aad0-92aaacbd9ccf",
   "metadata": {},
   "outputs": [
    {
     "data": {
      "text/plain": [
       "'This is mom'"
      ]
     },
     "execution_count": 27,
     "metadata": {},
     "output_type": "execute_result"
    }
   ],
   "source": [
    "child_obj.test_mom()"
   ]
  },
  {
   "cell_type": "code",
   "execution_count": 28,
   "id": "e548d281-849e-4e0c-9dba-01bc3f894c08",
   "metadata": {},
   "outputs": [
    {
     "data": {
      "text/plain": [
       "'This is dad'"
      ]
     },
     "execution_count": 28,
     "metadata": {},
     "output_type": "execute_result"
    }
   ],
   "source": [
    "child_obj.test_dad()"
   ]
  },
  {
   "cell_type": "markdown",
   "id": "946f545b-321b-49a3-913a-a7dd888d1042",
   "metadata": {},
   "source": [
    "Q4. What are getter and setter in python? Create a class and create a getter and a setter method in this\n",
    "class."
   ]
  },
  {
   "cell_type": "markdown",
   "id": "c1592279-c4b1-41e0-9b08-7b8b3c355787",
   "metadata": {},
   "source": [
    "Answer : We use getters & setters to add validation logic around getting and setting a value.\n",
    "To avoid direct access of a class field i.e. private variables cannot be accessed directly or modified by external user."
   ]
  },
  {
   "cell_type": "code",
   "execution_count": 1,
   "id": "61fa57da-5c39-4ae8-8ca3-9b961cc5ac8e",
   "metadata": {},
   "outputs": [],
   "source": [
    "class car :\n",
    "    \n",
    "    def __init__(self,year,make,model,speed):\n",
    "        \n",
    "        self.__year = year\n",
    "        self.__make = make\n",
    "        self.__model = model\n",
    "        self.__speed = 0\n",
    "        \n",
    "    def set_speed(self,speed) :\n",
    "        self.__speed = 0 if speed < 0 else speed\n",
    "        \n",
    "    def get_speed(self) :\n",
    "        return self.__speed"
   ]
  },
  {
   "cell_type": "code",
   "execution_count": 2,
   "id": "c7f4daf0-d81e-47fb-aa9a-0f4e08b878d8",
   "metadata": {},
   "outputs": [],
   "source": [
    "c = car(2021,\"tata\",\"hexa\",12)"
   ]
  },
  {
   "cell_type": "code",
   "execution_count": 3,
   "id": "7295bcbb-51a5-4e9c-99d1-325fcc8cc5d5",
   "metadata": {},
   "outputs": [
    {
     "data": {
      "text/plain": [
       "0"
      ]
     },
     "execution_count": 3,
     "metadata": {},
     "output_type": "execute_result"
    }
   ],
   "source": [
    "c.get_speed()"
   ]
  },
  {
   "cell_type": "code",
   "execution_count": 4,
   "id": "bde7ba58-e3d2-4d26-b1b6-00df38b758b9",
   "metadata": {},
   "outputs": [],
   "source": [
    "c.set_speed(100)"
   ]
  },
  {
   "cell_type": "code",
   "execution_count": 5,
   "id": "0e186faf-b65f-46ed-9b9c-2a4e04817b0d",
   "metadata": {},
   "outputs": [
    {
     "data": {
      "text/plain": [
       "100"
      ]
     },
     "execution_count": 5,
     "metadata": {},
     "output_type": "execute_result"
    }
   ],
   "source": [
    "c.get_speed()"
   ]
  },
  {
   "cell_type": "markdown",
   "id": "79727178-df20-4879-ab89-1fb7269cf829",
   "metadata": {},
   "source": [
    "Q5.What is method overriding in python? Write a python code to demonstrate method overriding."
   ]
  },
  {
   "cell_type": "markdown",
   "id": "ffa40450-b07b-4b19-83a4-e6bb17f8295f",
   "metadata": {},
   "source": [
    "Answer : Method overriding is an ability of any object-oriented programming language that allows a subclass or child class to provide a specific implementation of a method that is already provided by one of its super-classes or parent classes. When a method in a subclass has the same name, same parameters or signature and same return type(or sub-type) as a method in its super-class, then the method in the subclass is said to override the method in the super-class."
   ]
  },
  {
   "cell_type": "code",
   "execution_count": 12,
   "id": "8f16d886-c06a-44d8-b7e7-ca7d2e30dc55",
   "metadata": {},
   "outputs": [],
   "source": [
    "class parent :\n",
    "    \n",
    "    def __init__ (self) :\n",
    "        self.value = \"inside parent\"\n",
    "        \n",
    "    def show (self) :\n",
    "        print(self.value)"
   ]
  },
  {
   "cell_type": "code",
   "execution_count": 13,
   "id": "d4bccaa6-d051-4334-9777-f4beae7e9d4f",
   "metadata": {},
   "outputs": [],
   "source": [
    "class child(parent) :\n",
    "    \n",
    "    def __init__(self) :\n",
    "        self.value = \"inside child\"\n",
    "        \n",
    "    def show(self) :\n",
    "        print(self.value)"
   ]
  },
  {
   "cell_type": "code",
   "execution_count": 14,
   "id": "ac5800c5-5861-4777-be66-dcb665d53675",
   "metadata": {},
   "outputs": [],
   "source": [
    "po = parent()"
   ]
  },
  {
   "cell_type": "code",
   "execution_count": 15,
   "id": "6e37cb9c-e10c-47f3-9f53-206cf0f46d13",
   "metadata": {},
   "outputs": [],
   "source": [
    "co = child()"
   ]
  },
  {
   "cell_type": "code",
   "execution_count": 17,
   "id": "307d92ef-4081-4d53-aec0-cce24287206d",
   "metadata": {},
   "outputs": [
    {
     "name": "stdout",
     "output_type": "stream",
     "text": [
      "inside parent\n",
      "inside child\n"
     ]
    }
   ],
   "source": [
    "po.show()\n",
    "co.show()"
   ]
  },
  {
   "cell_type": "code",
   "execution_count": null,
   "id": "00d5a00c-59d1-4084-8b4d-f809c3ee7194",
   "metadata": {},
   "outputs": [],
   "source": []
  }
 ],
 "metadata": {
  "kernelspec": {
   "display_name": "Python 3 (ipykernel)",
   "language": "python",
   "name": "python3"
  },
  "language_info": {
   "codemirror_mode": {
    "name": "ipython",
    "version": 3
   },
   "file_extension": ".py",
   "mimetype": "text/x-python",
   "name": "python",
   "nbconvert_exporter": "python",
   "pygments_lexer": "ipython3",
   "version": "3.10.8"
  }
 },
 "nbformat": 4,
 "nbformat_minor": 5
}
